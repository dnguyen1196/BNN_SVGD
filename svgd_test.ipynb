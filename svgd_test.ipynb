{
 "cells": [
  {
   "cell_type": "code",
   "execution_count": 1,
   "metadata": {},
   "outputs": [],
   "source": [
    "import numpy as np\n",
    "import sys\n",
    "import os\n",
    "from BNN_SVGD.SVGD_HMC_hybrid import *\n",
    "import torch.optim as optim\n",
    "import torch\n",
    "import matplotlib.pyplot as plt\n"
   ]
  },
  {
   "cell_type": "code",
   "execution_count": null,
   "metadata": {},
   "outputs": [],
   "source": [
    "# Generate data\n",
    "N = 100\n",
    "eps = 1\n",
    "Xs = np.linspace(-3, 3, N)\n",
    "ys = 1 * Xs + np.random.normal(0, 1, size=(N,))\n",
    "\n",
    "\n",
    "# Initialize the model\n",
    "x_dim = 1\n",
    "y_dim = 1\n",
    "num_networks = []\n",
    "l = 1\n",
    "p = 1\n",
    "rbf = 1\n",
    "\n",
    "\n",
    "model = SVGD_HMC_hybrid(x_dim, y_dim, num_networks, network_structure, l, p, rbf)\n",
    "model.fit()"
   ]
  }
 ],
 "metadata": {
  "kernelspec": {
   "display_name": "Python 3",
   "language": "python",
   "name": "python3"
  },
  "language_info": {
   "codemirror_mode": {
    "name": "ipython",
    "version": 3
   },
   "file_extension": ".py",
   "mimetype": "text/x-python",
   "name": "python",
   "nbconvert_exporter": "python",
   "pygments_lexer": "ipython3",
   "version": "3.6.6"
  }
 },
 "nbformat": 4,
 "nbformat_minor": 2
}
